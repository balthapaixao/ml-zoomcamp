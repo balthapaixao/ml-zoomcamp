{
 "cells": [
  {
   "cell_type": "code",
   "execution_count": 12,
   "metadata": {},
   "outputs": [],
   "source": [
    "import numpy as np\n",
    "import pandas as pd"
   ]
  },
  {
   "cell_type": "code",
   "execution_count": 13,
   "metadata": {},
   "outputs": [],
   "source": [
    "df = pd.read_csv(\"../data/preprocessed_data.csv\")"
   ]
  },
  {
   "cell_type": "markdown",
   "metadata": {},
   "source": [
    "## Developing a model\n"
   ]
  },
  {
   "cell_type": "code",
   "execution_count": 14,
   "metadata": {},
   "outputs": [],
   "source": [
    "from sklearn.model_selection import train_test_split\n",
    "\n",
    "from sklearn.preprocessing import OneHotEncoder, StandardScaler\n",
    "from sklearn.feature_extraction import DictVectorizer\n",
    "\n",
    "from sklearn.metrics import mean_squared_error, r2_score\n",
    "\n",
    "from sklearn.ensemble import RandomForestRegressor, GradientBoostingRegressor\n",
    "from sklearn.linear_model import LinearRegression"
   ]
  },
  {
   "cell_type": "code",
   "execution_count": 15,
   "metadata": {},
   "outputs": [
    {
     "name": "stdout",
     "output_type": "stream",
     "text": [
      "<class 'pandas.core.frame.DataFrame'>\n",
      "RangeIndex: 300259 entries, 0 to 300258\n",
      "Data columns (total 14 columns):\n",
      " #   Column          Non-Null Count   Dtype  \n",
      "---  ------          --------------   -----  \n",
      " 0   airline         300259 non-null  object \n",
      " 1   from            300259 non-null  object \n",
      " 2   to              300259 non-null  object \n",
      " 3   price           300259 non-null  int64  \n",
      " 4   class           300259 non-null  object \n",
      " 5   flight_code     300259 non-null  object \n",
      " 6   stops           300259 non-null  object \n",
      " 7   departure_time  300259 non-null  object \n",
      " 8   arrival_time    300259 non-null  object \n",
      " 9   datetime        300259 non-null  object \n",
      " 10  dow             300259 non-null  object \n",
      " 11  holiday         300259 non-null  int64  \n",
      " 12  days_until      300259 non-null  int64  \n",
      " 13  duration        300255 non-null  float64\n",
      "dtypes: float64(1), int64(3), object(10)\n",
      "memory usage: 32.1+ MB\n"
     ]
    }
   ],
   "source": [
    "df.info()"
   ]
  },
  {
   "cell_type": "code",
   "execution_count": 16,
   "metadata": {},
   "outputs": [],
   "source": [
    "# We have null values in the duration column, we will drop them\n",
    "df = df.dropna()\n",
    "\n",
    "# We also will drop the datetime column\n",
    "df = df.drop(columns=[\"datetime\"])\n",
    "\n",
    "# Let's remove flight code as well\n",
    "df = df.drop(columns=[\"flight_code\"])"
   ]
  },
  {
   "cell_type": "code",
   "execution_count": 17,
   "metadata": {},
   "outputs": [
    {
     "data": {
      "text/html": [
       "<div>\n",
       "<style scoped>\n",
       "    .dataframe tbody tr th:only-of-type {\n",
       "        vertical-align: middle;\n",
       "    }\n",
       "\n",
       "    .dataframe tbody tr th {\n",
       "        vertical-align: top;\n",
       "    }\n",
       "\n",
       "    .dataframe thead th {\n",
       "        text-align: right;\n",
       "    }\n",
       "</style>\n",
       "<table border=\"1\" class=\"dataframe\">\n",
       "  <thead>\n",
       "    <tr style=\"text-align: right;\">\n",
       "      <th></th>\n",
       "      <th>airline</th>\n",
       "      <th>from</th>\n",
       "      <th>to</th>\n",
       "      <th>price</th>\n",
       "      <th>class</th>\n",
       "      <th>stops</th>\n",
       "      <th>departure_time</th>\n",
       "      <th>arrival_time</th>\n",
       "      <th>dow</th>\n",
       "      <th>holiday</th>\n",
       "      <th>days_until</th>\n",
       "      <th>duration</th>\n",
       "    </tr>\n",
       "  </thead>\n",
       "  <tbody>\n",
       "    <tr>\n",
       "      <th>168173</th>\n",
       "      <td>Air India</td>\n",
       "      <td>Hyderabad</td>\n",
       "      <td>Bangalore</td>\n",
       "      <td>6734</td>\n",
       "      <td>economy</td>\n",
       "      <td>1</td>\n",
       "      <td>morning</td>\n",
       "      <td>evening</td>\n",
       "      <td>Tuesday</td>\n",
       "      <td>0</td>\n",
       "      <td>26</td>\n",
       "      <td>525.0</td>\n",
       "    </tr>\n",
       "    <tr>\n",
       "      <th>28331</th>\n",
       "      <td>Air India</td>\n",
       "      <td>Delhi</td>\n",
       "      <td>Kolkata</td>\n",
       "      <td>4748</td>\n",
       "      <td>economy</td>\n",
       "      <td>1</td>\n",
       "      <td>morning</td>\n",
       "      <td>afternoon</td>\n",
       "      <td>Tuesday</td>\n",
       "      <td>0</td>\n",
       "      <td>47</td>\n",
       "      <td>500.0</td>\n",
       "    </tr>\n",
       "    <tr>\n",
       "      <th>194083</th>\n",
       "      <td>Vistara</td>\n",
       "      <td>Chennai</td>\n",
       "      <td>Bangalore</td>\n",
       "      <td>12318</td>\n",
       "      <td>economy</td>\n",
       "      <td>1</td>\n",
       "      <td>evening</td>\n",
       "      <td>afternoon</td>\n",
       "      <td>Monday</td>\n",
       "      <td>0</td>\n",
       "      <td>4</td>\n",
       "      <td>1195.0</td>\n",
       "    </tr>\n",
       "  </tbody>\n",
       "</table>\n",
       "</div>"
      ],
      "text/plain": [
       "          airline       from         to  price    class stops departure_time  \\\n",
       "168173  Air India  Hyderabad  Bangalore   6734  economy     1        morning   \n",
       "28331   Air India      Delhi    Kolkata   4748  economy     1        morning   \n",
       "194083    Vistara    Chennai  Bangalore  12318  economy     1        evening   \n",
       "\n",
       "       arrival_time      dow  holiday  days_until  duration  \n",
       "168173      evening  Tuesday        0          26     525.0  \n",
       "28331     afternoon  Tuesday        0          47     500.0  \n",
       "194083    afternoon   Monday        0           4    1195.0  "
      ]
     },
     "execution_count": 17,
     "metadata": {},
     "output_type": "execute_result"
    }
   ],
   "source": [
    "df.sample(3)"
   ]
  },
  {
   "cell_type": "code",
   "execution_count": 18,
   "metadata": {},
   "outputs": [],
   "source": [
    "categorical_columns = [\n",
    "    \"airline\",\n",
    "    \"from\",\n",
    "    \"to\",\n",
    "    \"class\",\n",
    "#    \"flight_code\",\n",
    "    \"departure_time\",\n",
    "    \"arrival_time\",\n",
    "    \"dow\",\n",
    "    \"holiday\",\n",
    "]\n",
    "numerical_columns = [\"duration\",\n",
    "                     \"days_until\"]\n",
    "target_column = \"price\""
   ]
  },
  {
   "cell_type": "markdown",
   "metadata": {},
   "source": [
    "## Splitting the data into training, validation and testing sets\n"
   ]
  },
  {
   "cell_type": "code",
   "execution_count": 19,
   "metadata": {},
   "outputs": [],
   "source": [
    "df_train_val, df_test = train_test_split(df, test_size=0.2, random_state=57)\n",
    "df_train, df_val = train_test_split(\n",
    "    df_train_val, test_size=0.25, random_state=57)\n",
    "\n",
    "df_train = df_train.reset_index(drop=True)\n",
    "df_val = df_val.reset_index(drop=True)\n",
    "df_test = df_test.reset_index(drop=True)"
   ]
  },
  {
   "cell_type": "code",
   "execution_count": 20,
   "metadata": {},
   "outputs": [],
   "source": [
    "X_train = df_train[categorical_columns + numerical_columns]\n",
    "X_val = df_val[categorical_columns +numerical_columns]\n",
    "X_test = df_test[categorical_columns + numerical_columns]\n",
    "\n",
    "y_train = df_train[target_column].values\n",
    "y_val = df_val[target_column].values\n",
    "y_test = df_test[target_column].values\n"
   ]
  },
  {
   "cell_type": "markdown",
   "metadata": {},
   "source": [
    "### Scaling the data"
   ]
  },
  {
   "cell_type": "code",
   "execution_count": 21,
   "metadata": {},
   "outputs": [],
   "source": [
    "def treat_categorical_cols(df_train: pd.DataFrame, cols: list, dv: DictVectorizer):\n",
    "    df = df_train.copy()\n",
    "    df[cols] = df[cols].astype(str)\n",
    "    train_dict = df[cols].to_dict(orient=\"records\")\n",
    "\n",
    "\n",
    "    if dv is None:\n",
    "        dv = DictVectorizer(sparse=False)\n",
    "        dv.fit(train_dict)\n",
    "        \n",
    "    df_cat = dv.transform(train_dict)\n",
    "    df_train_cat = pd.DataFrame(df_cat, columns=dv.get_feature_names_out())\n",
    "\n",
    "    df_train_continuous = df_train.drop(columns=cols)\n",
    "    df_train = pd.concat([df_train_continuous, df_train_cat], axis=1)\n",
    "\n",
    "    return df_train, dv"
   ]
  },
  {
   "cell_type": "code",
   "execution_count": 22,
   "metadata": {},
   "outputs": [],
   "source": [
    "X_train, dv = treat_categorical_cols(X_train,\n",
    "                                     categorical_columns,\n",
    "                                     dv=None)\n",
    "X_val = treat_categorical_cols(X_val,\n",
    "                               categorical_columns,\n",
    "                               dv=dv)[0]\n",
    "X_test = treat_categorical_cols(X_test,\n",
    "                                categorical_columns,\n",
    "                                dv=dv)[0]\n"
   ]
  },
  {
   "cell_type": "code",
   "execution_count": 23,
   "metadata": {},
   "outputs": [],
   "source": [
    "def treat_numerical_columns(df_train: pd.DataFrame, cols: list, scaler: StandardScaler):\n",
    "    df = df_train.copy()\n",
    "    if scaler is None:\n",
    "        scaler = StandardScaler()\n",
    "        scaler.fit(df[cols])\n",
    "    df[cols] = scaler.transform(df[cols])\n",
    "    return df, scaler"
   ]
  },
  {
   "cell_type": "code",
   "execution_count": 24,
   "metadata": {},
   "outputs": [],
   "source": [
    "X_train, scaler = treat_numerical_columns(X_train,\n",
    "                                            numerical_columns,\n",
    "                                            scaler=None)\n",
    "X_val = treat_numerical_columns(X_val,\n",
    "                                numerical_columns,\n",
    "                                scaler=scaler)[0]\n",
    "X_test = treat_numerical_columns(X_test,\n",
    "                                 numerical_columns,\n",
    "                                 scaler=scaler)[0]"
   ]
  },
  {
   "cell_type": "markdown",
   "metadata": {},
   "source": [
    "## Training the model\n"
   ]
  },
  {
   "cell_type": "code",
   "execution_count": 25,
   "metadata": {},
   "outputs": [
    {
     "name": "stdout",
     "output_type": "stream",
     "text": [
      "Linear Regression\n",
      "RMSE: 7071.62\n",
      "R2: 0.9\n",
      "\n",
      "Random Forest\n",
      "RMSE: 2847.38\n",
      "R2: 0.98\n",
      "\n",
      "Gradient Boosting\n",
      "RMSE: 5022.1\n",
      "R2: 0.95\n"
     ]
    }
   ],
   "source": [
    "LR = LinearRegression()\n",
    "LR.fit(X_train, y_train)\n",
    "y_pred = LR.predict(X_val)\n",
    "print(\"Linear Regression\")\n",
    "print(f\"RMSE: {round(np.sqrt(mean_squared_error(y_val, y_pred)), 2)}\")\n",
    "print(f\"R2: {round(r2_score(y_val, y_pred), 2)}\")\n",
    "print()\n",
    "\n",
    "RF = RandomForestRegressor(n_jobs=-1, \n",
    "                           random_state=57, )\n",
    "RF.fit(X_train, y_train)\n",
    "y_pred = RF.predict(X_val)\n",
    "print(\"Random Forest\")\n",
    "print(f\"RMSE: {round(np.sqrt(mean_squared_error(y_val, y_pred)), 2)}\")\n",
    "print(f\"R2: {round(r2_score(y_val, y_pred), 2)}\")\n",
    "print()\n",
    "\n",
    "GB = GradientBoostingRegressor(random_state=57)\n",
    "GB.fit(X_train, y_train)\n",
    "y_pred = GB.predict(X_val)\n",
    "print(\"Gradient Boosting\")\n",
    "print(f\"RMSE: {round(np.sqrt(mean_squared_error(y_val, y_pred)), 2)}\")\n",
    "print(f\"R2: {round(r2_score(y_val, y_pred), 2)}\")"
   ]
  },
  {
   "cell_type": "code",
   "execution_count": 26,
   "metadata": {},
   "outputs": [
    {
     "name": "stdout",
     "output_type": "stream",
     "text": [
      "Linear Regression\n",
      "RMSE: 7091.5\n",
      "R2: 0.9\n",
      "Random Forest\n",
      "RMSE: 2907.46\n",
      "R2: 0.98\n",
      "Gradient Boosting\n",
      "RMSE: 5037.78\n",
      "R2: 0.95\n"
     ]
    }
   ],
   "source": [
    "y_pred = LR.predict(X_test)\n",
    "print(\"Linear Regression\")\n",
    "print(f\"RMSE: {round(np.sqrt(mean_squared_error(y_test, y_pred)), 2)}\")\n",
    "print(f\"R2: {round(r2_score(y_test, y_pred), 2)}\")\n",
    "\n",
    "y_pred = RF.predict(X_test)\n",
    "print(\"Random Forest\")\n",
    "print(f\"RMSE: {round(np.sqrt(mean_squared_error(y_test, y_pred)), 2)}\")\n",
    "print(f\"R2: {round(r2_score(y_test, y_pred), 2)}\")\n",
    "\n",
    "y_pred = GB.predict(X_test)\n",
    "print(\"Gradient Boosting\")\n",
    "print(f\"RMSE: {round(np.sqrt(mean_squared_error(y_test, y_pred)), 2)}\")\n",
    "print(f\"R2: {round(r2_score(y_test, y_pred), 2)}\")"
   ]
  },
  {
   "cell_type": "markdown",
   "metadata": {},
   "source": [
    "We could check that the model that best fit our prediction is the Random Forest Regressor. We will now fine tuning this model. "
   ]
  },
  {
   "cell_type": "code",
   "execution_count": 27,
   "metadata": {},
   "outputs": [],
   "source": [
    "from sklearn.model_selection import GridSearchCV"
   ]
  },
  {
   "cell_type": "markdown",
   "metadata": {},
   "source": [
    "### Grid Search\n"
   ]
  },
  {
   "cell_type": "code",
   "execution_count": 28,
   "metadata": {},
   "outputs": [
    {
     "name": "stdout",
     "output_type": "stream",
     "text": [
      "Fitting 3 folds for each of 12 candidates, totalling 36 fits\n"
     ]
    },
    {
     "name": "stderr",
     "output_type": "stream",
     "text": [
      "/home/balthapaixao/Desktop/baltha/projects/portfolio/ml-zoomcamp/.venv/lib/python3.10/site-packages/joblib/externals/loky/process_executor.py:752: UserWarning: A worker stopped while some jobs were given to the executor. This can be caused by a too short worker timeout or by a memory leak.\n",
      "  warnings.warn(\n"
     ]
    },
    {
     "data": {
      "text/plain": [
       "{'max_depth': 25,\n",
       " 'max_features': 'sqrt',\n",
       " 'min_samples_leaf': 1,\n",
       " 'n_estimators': 200}"
      ]
     },
     "execution_count": 28,
     "metadata": {},
     "output_type": "execute_result"
    }
   ],
   "source": [
    "param_grid = {\n",
    "    \"n_estimators\": [50, 100, 200],\n",
    "    \"max_depth\": [25, 50],\n",
    "    \"min_samples_leaf\": [1,2],\n",
    "    \"max_features\": [\"sqrt\"]\n",
    "}\n",
    "\n",
    "RF = RandomForestRegressor(n_jobs=-1,\n",
    "                            random_state=57)\n",
    "grid_search = GridSearchCV(RF,\n",
    "                           param_grid,\n",
    "                           cv=3,\n",
    "                           verbose=1,\n",
    "                           n_jobs=-1)\n",
    "\n",
    "grid_search.fit(X_train, y_train)\n",
    "\n",
    "grid_search.best_params_"
   ]
  },
  {
   "cell_type": "code",
   "execution_count": 30,
   "metadata": {},
   "outputs": [
    {
     "name": "stdout",
     "output_type": "stream",
     "text": [
      "Random Forest\n",
      "RMSE: 3446.07\n",
      "R2: 0.98\n",
      "Random Forest\n",
      "RMSE: 3488.77\n"
     ]
    }
   ],
   "source": [
    "\n",
    "RF = RandomForestRegressor(n_jobs=-1,\n",
    "                            random_state=57,\n",
    "                            **grid_search.best_params_)\n",
    "RF.fit(X_train, y_train)\n",
    "y_pred = RF.predict(X_val)\n",
    "print(\"Random Forest\")\n",
    "print(f\"RMSE: {round(np.sqrt(mean_squared_error(y_val, y_pred)), 2)}\")\n",
    "print(f\"R2: {round(r2_score(y_val, y_pred), 2)}\")\n",
    "\n",
    "y_pred = RF.predict(X_test)\n",
    "print(\"Random Forest\")\n",
    "print(f\"RMSE: {round(np.sqrt(mean_squared_error(y_test, y_pred)), 2)}\")\n"
   ]
  },
  {
   "cell_type": "markdown",
   "metadata": {},
   "source": [
    "Okay, let's accept that our model is better without fine tuning. We will use the model without changing hyperparameters."
   ]
  },
  {
   "cell_type": "code",
   "execution_count": 32,
   "metadata": {},
   "outputs": [
    {
     "data": {
      "text/html": [
       "<style>#sk-container-id-1 {color: black;}#sk-container-id-1 pre{padding: 0;}#sk-container-id-1 div.sk-toggleable {background-color: white;}#sk-container-id-1 label.sk-toggleable__label {cursor: pointer;display: block;width: 100%;margin-bottom: 0;padding: 0.3em;box-sizing: border-box;text-align: center;}#sk-container-id-1 label.sk-toggleable__label-arrow:before {content: \"▸\";float: left;margin-right: 0.25em;color: #696969;}#sk-container-id-1 label.sk-toggleable__label-arrow:hover:before {color: black;}#sk-container-id-1 div.sk-estimator:hover label.sk-toggleable__label-arrow:before {color: black;}#sk-container-id-1 div.sk-toggleable__content {max-height: 0;max-width: 0;overflow: hidden;text-align: left;background-color: #f0f8ff;}#sk-container-id-1 div.sk-toggleable__content pre {margin: 0.2em;color: black;border-radius: 0.25em;background-color: #f0f8ff;}#sk-container-id-1 input.sk-toggleable__control:checked~div.sk-toggleable__content {max-height: 200px;max-width: 100%;overflow: auto;}#sk-container-id-1 input.sk-toggleable__control:checked~label.sk-toggleable__label-arrow:before {content: \"▾\";}#sk-container-id-1 div.sk-estimator input.sk-toggleable__control:checked~label.sk-toggleable__label {background-color: #d4ebff;}#sk-container-id-1 div.sk-label input.sk-toggleable__control:checked~label.sk-toggleable__label {background-color: #d4ebff;}#sk-container-id-1 input.sk-hidden--visually {border: 0;clip: rect(1px 1px 1px 1px);clip: rect(1px, 1px, 1px, 1px);height: 1px;margin: -1px;overflow: hidden;padding: 0;position: absolute;width: 1px;}#sk-container-id-1 div.sk-estimator {font-family: monospace;background-color: #f0f8ff;border: 1px dotted black;border-radius: 0.25em;box-sizing: border-box;margin-bottom: 0.5em;}#sk-container-id-1 div.sk-estimator:hover {background-color: #d4ebff;}#sk-container-id-1 div.sk-parallel-item::after {content: \"\";width: 100%;border-bottom: 1px solid gray;flex-grow: 1;}#sk-container-id-1 div.sk-label:hover label.sk-toggleable__label {background-color: #d4ebff;}#sk-container-id-1 div.sk-serial::before {content: \"\";position: absolute;border-left: 1px solid gray;box-sizing: border-box;top: 0;bottom: 0;left: 50%;z-index: 0;}#sk-container-id-1 div.sk-serial {display: flex;flex-direction: column;align-items: center;background-color: white;padding-right: 0.2em;padding-left: 0.2em;position: relative;}#sk-container-id-1 div.sk-item {position: relative;z-index: 1;}#sk-container-id-1 div.sk-parallel {display: flex;align-items: stretch;justify-content: center;background-color: white;position: relative;}#sk-container-id-1 div.sk-item::before, #sk-container-id-1 div.sk-parallel-item::before {content: \"\";position: absolute;border-left: 1px solid gray;box-sizing: border-box;top: 0;bottom: 0;left: 50%;z-index: -1;}#sk-container-id-1 div.sk-parallel-item {display: flex;flex-direction: column;z-index: 1;position: relative;background-color: white;}#sk-container-id-1 div.sk-parallel-item:first-child::after {align-self: flex-end;width: 50%;}#sk-container-id-1 div.sk-parallel-item:last-child::after {align-self: flex-start;width: 50%;}#sk-container-id-1 div.sk-parallel-item:only-child::after {width: 0;}#sk-container-id-1 div.sk-dashed-wrapped {border: 1px dashed gray;margin: 0 0.4em 0.5em 0.4em;box-sizing: border-box;padding-bottom: 0.4em;background-color: white;}#sk-container-id-1 div.sk-label label {font-family: monospace;font-weight: bold;display: inline-block;line-height: 1.2em;}#sk-container-id-1 div.sk-label-container {text-align: center;}#sk-container-id-1 div.sk-container {/* jupyter's `normalize.less` sets `[hidden] { display: none; }` but bootstrap.min.css set `[hidden] { display: none !important; }` so we also need the `!important` here to be able to override the default hidden behavior on the sphinx rendered scikit-learn.org. See: https://github.com/scikit-learn/scikit-learn/issues/21755 */display: inline-block !important;position: relative;}#sk-container-id-1 div.sk-text-repr-fallback {display: none;}</style><div id=\"sk-container-id-1\" class=\"sk-top-container\"><div class=\"sk-text-repr-fallback\"><pre>RandomForestRegressor(n_jobs=-1, random_state=57)</pre><b>In a Jupyter environment, please rerun this cell to show the HTML representation or trust the notebook. <br />On GitHub, the HTML representation is unable to render, please try loading this page with nbviewer.org.</b></div><div class=\"sk-container\" hidden><div class=\"sk-item\"><div class=\"sk-estimator sk-toggleable\"><input class=\"sk-toggleable__control sk-hidden--visually\" id=\"sk-estimator-id-1\" type=\"checkbox\" checked><label for=\"sk-estimator-id-1\" class=\"sk-toggleable__label sk-toggleable__label-arrow\">RandomForestRegressor</label><div class=\"sk-toggleable__content\"><pre>RandomForestRegressor(n_jobs=-1, random_state=57)</pre></div></div></div></div></div>"
      ],
      "text/plain": [
       "RandomForestRegressor(n_jobs=-1, random_state=57)"
      ]
     },
     "execution_count": 32,
     "metadata": {},
     "output_type": "execute_result"
    }
   ],
   "source": [
    "RF = RandomForestRegressor(n_jobs=-1, \n",
    "                           random_state=57)\n",
    "\n",
    "RF.fit(X_train, y_train)"
   ]
  },
  {
   "cell_type": "markdown",
   "metadata": {},
   "source": [
    "### Saving model, DictVectorizer and StandardScaler"
   ]
  },
  {
   "cell_type": "code",
   "execution_count": 33,
   "metadata": {},
   "outputs": [],
   "source": [
    "import pickle"
   ]
  },
  {
   "cell_type": "code",
   "execution_count": 34,
   "metadata": {},
   "outputs": [],
   "source": [
    "\n",
    "with open(\"../data/models/RF.pkl\", \"wb\") as f:\n",
    "    pickle.dump(RF, f)\n",
    "\n",
    "with open(\"../data/models/dv.pkl\", \"wb\") as f:\n",
    "    pickle.dump(dv, f)\n",
    "\n",
    "with open(\"../data/models/scaler.pkl\", \"wb\") as f:\n",
    "    pickle.dump(scaler, f)"
   ]
  }
 ],
 "metadata": {
  "kernelspec": {
   "display_name": ".venv",
   "language": "python",
   "name": "python3"
  },
  "language_info": {
   "codemirror_mode": {
    "name": "ipython",
    "version": 3
   },
   "file_extension": ".py",
   "mimetype": "text/x-python",
   "name": "python",
   "nbconvert_exporter": "python",
   "pygments_lexer": "ipython3",
   "version": "3.10.12"
  }
 },
 "nbformat": 4,
 "nbformat_minor": 2
}
