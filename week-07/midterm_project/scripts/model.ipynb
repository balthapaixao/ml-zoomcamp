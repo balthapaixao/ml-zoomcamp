{
 "cells": [
  {
   "cell_type": "code",
   "execution_count": 115,
   "metadata": {},
   "outputs": [],
   "source": [
    "import numpy as np\n",
    "import pandas as pd"
   ]
  },
  {
   "cell_type": "code",
   "execution_count": 99,
   "metadata": {},
   "outputs": [],
   "source": [
    "df = pd.read_csv(\"../data/preprocessed_data.csv\")"
   ]
  },
  {
   "cell_type": "markdown",
   "metadata": {},
   "source": [
    "## Developing a model\n"
   ]
  },
  {
   "cell_type": "code",
   "execution_count": 100,
   "metadata": {},
   "outputs": [],
   "source": [
    "from sklearn.model_selection import train_test_split\n",
    "\n",
    "from sklearn.preprocessing import OneHotEncoder, StandardScaler\n",
    "from sklearn.feature_extraction import DictVectorizer\n",
    "\n",
    "from sklearn.metrics import mean_squared_error, r2_score\n",
    "\n",
    "from sklearn.ensemble import RandomForestRegressor, GradientBoostingRegressor\n",
    "from sklearn.linear_model import LinearRegression"
   ]
  },
  {
   "cell_type": "code",
   "execution_count": 101,
   "metadata": {},
   "outputs": [
    {
     "name": "stdout",
     "output_type": "stream",
     "text": [
      "<class 'pandas.core.frame.DataFrame'>\n",
      "RangeIndex: 300259 entries, 0 to 300258\n",
      "Data columns (total 14 columns):\n",
      " #   Column          Non-Null Count   Dtype  \n",
      "---  ------          --------------   -----  \n",
      " 0   airline         300259 non-null  object \n",
      " 1   from            300259 non-null  object \n",
      " 2   to              300259 non-null  object \n",
      " 3   price           300259 non-null  int64  \n",
      " 4   class           300259 non-null  object \n",
      " 5   flight_code     300259 non-null  object \n",
      " 6   stops           300259 non-null  object \n",
      " 7   departure_time  300259 non-null  object \n",
      " 8   arrival_time    300259 non-null  object \n",
      " 9   datetime        300259 non-null  object \n",
      " 10  dow             300259 non-null  object \n",
      " 11  holiday         300259 non-null  int64  \n",
      " 12  days_until      300259 non-null  int64  \n",
      " 13  duration        300255 non-null  float64\n",
      "dtypes: float64(1), int64(3), object(10)\n",
      "memory usage: 32.1+ MB\n"
     ]
    }
   ],
   "source": [
    "df.info()"
   ]
  },
  {
   "cell_type": "code",
   "execution_count": 102,
   "metadata": {},
   "outputs": [],
   "source": [
    "# We have null values in the duration column, we will drop them\n",
    "df = df.dropna()\n",
    "\n",
    "# We also will drop the datetime column\n",
    "df = df.drop(columns=[\"datetime\"])\n",
    "\n",
    "# Let's remove flight code as well\n",
    "df = df.drop(columns=[\"flight_code\"])"
   ]
  },
  {
   "cell_type": "code",
   "execution_count": 103,
   "metadata": {},
   "outputs": [
    {
     "data": {
      "text/html": [
       "<div>\n",
       "<style scoped>\n",
       "    .dataframe tbody tr th:only-of-type {\n",
       "        vertical-align: middle;\n",
       "    }\n",
       "\n",
       "    .dataframe tbody tr th {\n",
       "        vertical-align: top;\n",
       "    }\n",
       "\n",
       "    .dataframe thead th {\n",
       "        text-align: right;\n",
       "    }\n",
       "</style>\n",
       "<table border=\"1\" class=\"dataframe\">\n",
       "  <thead>\n",
       "    <tr style=\"text-align: right;\">\n",
       "      <th></th>\n",
       "      <th>airline</th>\n",
       "      <th>from</th>\n",
       "      <th>to</th>\n",
       "      <th>price</th>\n",
       "      <th>class</th>\n",
       "      <th>stops</th>\n",
       "      <th>departure_time</th>\n",
       "      <th>arrival_time</th>\n",
       "      <th>dow</th>\n",
       "      <th>holiday</th>\n",
       "      <th>days_until</th>\n",
       "      <th>duration</th>\n",
       "    </tr>\n",
       "  </thead>\n",
       "  <tbody>\n",
       "    <tr>\n",
       "      <th>63105</th>\n",
       "      <td>Indigo</td>\n",
       "      <td>Mumbai</td>\n",
       "      <td>Kolkata</td>\n",
       "      <td>9723</td>\n",
       "      <td>economy</td>\n",
       "      <td>1</td>\n",
       "      <td>afternoon</td>\n",
       "      <td>evening</td>\n",
       "      <td>Monday</td>\n",
       "      <td>0</td>\n",
       "      <td>11</td>\n",
       "      <td>395.0</td>\n",
       "    </tr>\n",
       "    <tr>\n",
       "      <th>34530</th>\n",
       "      <td>Air India</td>\n",
       "      <td>Delhi</td>\n",
       "      <td>Hyderabad</td>\n",
       "      <td>4209</td>\n",
       "      <td>economy</td>\n",
       "      <td>1</td>\n",
       "      <td>evening</td>\n",
       "      <td>morning</td>\n",
       "      <td>Saturday</td>\n",
       "      <td>0</td>\n",
       "      <td>44</td>\n",
       "      <td>735.0</td>\n",
       "    </tr>\n",
       "    <tr>\n",
       "      <th>14027</th>\n",
       "      <td>AirAsia</td>\n",
       "      <td>Delhi</td>\n",
       "      <td>Bangalore</td>\n",
       "      <td>3090</td>\n",
       "      <td>economy</td>\n",
       "      <td>1</td>\n",
       "      <td>morning</td>\n",
       "      <td>evening</td>\n",
       "      <td>Friday</td>\n",
       "      <td>0</td>\n",
       "      <td>22</td>\n",
       "      <td>595.0</td>\n",
       "    </tr>\n",
       "  </tbody>\n",
       "</table>\n",
       "</div>"
      ],
      "text/plain": [
       "         airline    from         to  price    class stops departure_time  \\\n",
       "63105     Indigo  Mumbai    Kolkata   9723  economy     1      afternoon   \n",
       "34530  Air India   Delhi  Hyderabad   4209  economy     1        evening   \n",
       "14027    AirAsia   Delhi  Bangalore   3090  economy     1        morning   \n",
       "\n",
       "      arrival_time       dow  holiday  days_until  duration  \n",
       "63105      evening    Monday        0          11     395.0  \n",
       "34530      morning  Saturday        0          44     735.0  \n",
       "14027      evening    Friday        0          22     595.0  "
      ]
     },
     "execution_count": 103,
     "metadata": {},
     "output_type": "execute_result"
    }
   ],
   "source": [
    "df.sample(3)"
   ]
  },
  {
   "cell_type": "code",
   "execution_count": 104,
   "metadata": {},
   "outputs": [],
   "source": [
    "categorical_columns = [\n",
    "    \"airline\",\n",
    "    \"from\",\n",
    "    \"to\",\n",
    "    \"class\",\n",
    "#    \"flight_code\",\n",
    "    \"departure_time\",\n",
    "    \"arrival_time\",\n",
    "    \"dow\",\n",
    "    \"holiday\",\n",
    "]\n",
    "numerical_columns = [\"duration\",\n",
    "                     \"days_until\"]\n",
    "target_column = \"price\""
   ]
  },
  {
   "cell_type": "markdown",
   "metadata": {},
   "source": [
    "## Splitting the data into training, validation and testing sets\n"
   ]
  },
  {
   "cell_type": "code",
   "execution_count": 105,
   "metadata": {},
   "outputs": [],
   "source": [
    "df_train_val, df_test = train_test_split(df, test_size=0.2, random_state=57)\n",
    "df_train, df_val = train_test_split(\n",
    "    df_train_val, test_size=0.25, random_state=57)\n",
    "\n",
    "df_train = df_train.reset_index(drop=True)\n",
    "df_val = df_val.reset_index(drop=True)\n",
    "df_test = df_test.reset_index(drop=True)"
   ]
  },
  {
   "cell_type": "code",
   "execution_count": 106,
   "metadata": {},
   "outputs": [],
   "source": [
    "X_train = df_train[categorical_columns + numerical_columns]\n",
    "X_val = df_val[categorical_columns +numerical_columns]\n",
    "X_test = df_test[categorical_columns + numerical_columns]\n",
    "\n",
    "y_train = df_train[target_column].values\n",
    "y_val = df_val[target_column].values\n",
    "y_test = df_test[target_column].values\n"
   ]
  },
  {
   "cell_type": "markdown",
   "metadata": {},
   "source": [
    "### Scaling the data"
   ]
  },
  {
   "cell_type": "code",
   "execution_count": 108,
   "metadata": {},
   "outputs": [],
   "source": [
    "def treat_categorical_cols(df_train: pd.DataFrame, cols: list, dv: DictVectorizer):\n",
    "    df = df_train.copy()\n",
    "    df[cols] = df[cols].astype(str)\n",
    "    train_dict = df[cols].to_dict(orient=\"records\")\n",
    "\n",
    "\n",
    "    if dv is None:\n",
    "        dv = DictVectorizer(sparse=False)\n",
    "        dv.fit(train_dict)\n",
    "        \n",
    "    df_cat = dv.transform(train_dict)\n",
    "    df_train_cat = pd.DataFrame(df_cat, columns=dv.get_feature_names_out())\n",
    "\n",
    "    df_train_continuous = df_train.drop(columns=cols)\n",
    "    df_train = pd.concat([df_train_continuous, df_train_cat], axis=1)\n",
    "\n",
    "    return df_train, dv"
   ]
  },
  {
   "cell_type": "code",
   "execution_count": 109,
   "metadata": {},
   "outputs": [],
   "source": [
    "X_train, dv = treat_categorical_cols(X_train,\n",
    "                                     categorical_columns,\n",
    "                                     dv=None)\n",
    "X_val = treat_categorical_cols(X_val,\n",
    "                               categorical_columns,\n",
    "                               dv=dv)[0]\n",
    "X_test = treat_categorical_cols(X_test,\n",
    "                                categorical_columns,\n",
    "                                dv=dv)[0]\n"
   ]
  },
  {
   "cell_type": "code",
   "execution_count": 111,
   "metadata": {},
   "outputs": [],
   "source": [
    "def treat_numerical_columns(df_train: pd.DataFrame, cols: list, scaler: StandardScaler):\n",
    "    df = df_train.copy()\n",
    "    if scaler is None:\n",
    "        scaler = StandardScaler()\n",
    "        scaler.fit(df[cols])\n",
    "    df[cols] = scaler.transform(df[cols])\n",
    "    return df, scaler"
   ]
  },
  {
   "cell_type": "code",
   "execution_count": 112,
   "metadata": {},
   "outputs": [],
   "source": [
    "X_train, scaler = treat_numerical_columns(X_train,\n",
    "                                            numerical_columns,\n",
    "                                            scaler=None)\n",
    "X_val = treat_numerical_columns(X_val,\n",
    "                                numerical_columns,\n",
    "                                scaler=scaler)[0]\n",
    "X_test = treat_numerical_columns(X_test,\n",
    "                                 numerical_columns,\n",
    "                                 scaler=scaler)[0]"
   ]
  },
  {
   "cell_type": "markdown",
   "metadata": {},
   "source": [
    "## Training the model\n"
   ]
  },
  {
   "cell_type": "code",
   "execution_count": 116,
   "metadata": {},
   "outputs": [
    {
     "name": "stdout",
     "output_type": "stream",
     "text": [
      "Linear Regression\n",
      "RMSE: 7071.620080374951\n",
      "R2:  0.9032076917440507\n",
      "Random Forest\n",
      "RMSE: 2873.331481671299\n",
      "R2:  0.9840200848643698\n",
      "Gradient Boosting\n",
      "RMSE: 5022.104663293175\n",
      "R2:  0.951182613533328\n"
     ]
    }
   ],
   "source": [
    "LR = LinearRegression()\n",
    "LR.fit(X_train, y_train)\n",
    "y_pred = LR.predict(X_val)\n",
    "print(\"Linear Regression\")\n",
    "print(f\"RMSE: {np.sqrt(mean_squared_error(y_val, y_pred))}\")\n",
    "print(\"R2: \", r2_score(y_val, y_pred))\n",
    "print()\n",
    "\n",
    "RF = RandomForestRegressor(n_estimators=25, random_state=57)\n",
    "RF.fit(X_train, y_train)\n",
    "y_pred = RF.predict(X_val)\n",
    "print(\"Random Forest\")\n",
    "print(f\"RMSE: {np.sqrt(mean_squared_error(y_val, y_pred))}\")\n",
    "print(\"R2: \", r2_score(y_val, y_pred))\n",
    "print()\n",
    "\n",
    "GB = GradientBoostingRegressor(random_state=57)\n",
    "GB.fit(X_train, y_train)\n",
    "y_pred = GB.predict(X_val)\n",
    "print(\"Gradient Boosting\")\n",
    "print(f\"RMSE: {np.sqrt(mean_squared_error(y_val, y_pred))}\")\n",
    "print(\"R2: \", r2_score(y_val, y_pred))"
   ]
  },
  {
   "cell_type": "markdown",
   "metadata": {},
   "source": []
  }
 ],
 "metadata": {
  "language_info": {
   "name": "python"
  }
 },
 "nbformat": 4,
 "nbformat_minor": 2
}
