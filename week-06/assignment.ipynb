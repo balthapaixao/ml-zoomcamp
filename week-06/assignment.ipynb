{
 "cells": [
  {
   "cell_type": "markdown",
   "metadata": {},
   "source": [
    "\n",
    "The goal of this homework is to create a regression model for predicting housing prices (column `'median_house_value'`).\n",
    "\n",
    "\n",
    "### Preparing the dataset \n",
    "\n",
    "For this homework, we only want to use a subset of data. This is the same subset we used in homework #2.\n",
    "But in contrast to homework #2, we are going to use all columns of the dataset.\n",
    "\n",
    "First, keep only the records where `ocean_proximity` is either `'<1H OCEAN'` or `'INLAND'`\n",
    "\n",
    "Preparation:\n",
    "\n",
    "* Fill missing values with zeros.\n",
    "* Apply the log transform to `median_house_value`.\n",
    "* Do train/validation/test split with 60%/20%/20% distribution. \n",
    "* Use the `train_test_split` function and set the `random_state` parameter to 1.\n",
    "* Use `DictVectorizer(sparse=True)` to turn the dataframes into matrices.\n",
    "\n"
   ]
  },
  {
   "cell_type": "code",
   "execution_count": 15,
   "metadata": {},
   "outputs": [],
   "source": [
    "import numpy as np\n",
    "import pandas as pd\n",
    "from sklearn.model_selection import train_test_split\n",
    "from sklearn.feature_extraction import DictVectorizer"
   ]
  },
  {
   "cell_type": "code",
   "execution_count": 12,
   "metadata": {},
   "outputs": [],
   "source": [
    "df_housing = pd.read_csv('../data/housing.csv')\n",
    "df_housing = df_housing.loc[df_housing['ocean_proximity'].isin(['<1H OCEAN', 'INLAND'])]\n",
    "df_housing['median_house_value'] = np.log(df_housing['median_house_value'])"
   ]
  },
  {
   "cell_type": "code",
   "execution_count": 14,
   "metadata": {},
   "outputs": [],
   "source": [
    "df_train_val, df_test = train_test_split(df_housing, test_size=0.2, random_state=1)\n",
    "df_train, df_val = train_test_split(df_train_val, test_size=0.25, random_state=1)"
   ]
  },
  {
   "cell_type": "code",
   "execution_count": 47,
   "metadata": {},
   "outputs": [
    {
     "name": "stdout",
     "output_type": "stream",
     "text": [
      "(9411, 10) (3138, 10) (3138, 10)\n"
     ]
    }
   ],
   "source": [
    "X_train = df_train.drop(columns=[\"median_house_value\"])\n",
    "y_train = df_train[\"median_house_value\"]\n",
    "X_val = df_val.drop(columns=[\"median_house_value\"])\n",
    "y_val = df_val[\"median_house_value\"]\n",
    "X_test = df_test.drop(columns=[\"median_house_value\"])\n",
    "y_test = df_test[\"median_house_value\"]\n",
    "X_train = X_train.fillna(0)\n",
    "X_val = X_val.fillna(0)\n",
    "X_test = X_test.fillna(0)\n",
    "\n",
    "dv = DictVectorizer(sparse=False)\n",
    "X_train = dv.fit_transform(X_train.to_dict(orient=\"records\"))\n",
    "X_val = dv.transform(X_val.to_dict(orient=\"records\"))\n",
    "X_test = dv.transform(X_test.to_dict(orient=\"records\"))\n",
    "\n",
    "print(X_train.shape, X_val.shape, X_test.shape)"
   ]
  },
  {
   "cell_type": "markdown",
   "metadata": {},
   "source": [
    "## Question 1\n",
    "\n",
    "Let's train a decision tree regressor to predict the `median_house_value` variable. \n",
    "\n",
    "* Train a model with `max_depth=1`.\n",
    "\n",
    "\n",
    "Which feature is used for splitting the data?\n",
    "\n",
    "* `ocean_proximity`\n",
    "* `total_rooms`\n",
    "* `latitude`\n",
    "* `population`\n",
    "\n"
   ]
  },
  {
   "cell_type": "code",
   "execution_count": 48,
   "metadata": {},
   "outputs": [],
   "source": [
    "from sklearn.tree import DecisionTreeRegressor, export_text"
   ]
  },
  {
   "cell_type": "code",
   "execution_count": 49,
   "metadata": {},
   "outputs": [],
   "source": [
    "def train_model(model, X, y, kwargs={}):\n",
    "    model = model(**kwargs)\n",
    "    model.fit(X, y)\n",
    "    return model\n",
    "\n",
    "def predict(model, X):\n",
    "    return model.predict(X)\n"
   ]
  },
  {
   "cell_type": "code",
   "execution_count": 50,
   "metadata": {},
   "outputs": [
    {
     "name": "stdout",
     "output_type": "stream",
     "text": [
      "|--- ocean_proximity=INLAND <= 0.50\n",
      "|   |--- value: [12.30]\n",
      "|--- ocean_proximity=INLAND >  0.50\n",
      "|   |--- value: [11.61]\n",
      "\n"
     ]
    }
   ],
   "source": [
    "model = train_model(DecisionTreeRegressor, X_train, y_train, {'max_depth':1})\n",
    "print(export_text(model, feature_names=dv.feature_names_))"
   ]
  },
  {
   "cell_type": "markdown",
   "metadata": {},
   "source": [
    "## Question 2\n",
    "\n",
    "Train a random forest model with these parameters:\n",
    "\n",
    "* `n_estimators=10`\n",
    "* `random_state=1`\n",
    "* `n_jobs=-1` (optional - to make training faster)\n",
    "\n",
    "\n",
    "What's the RMSE of this model on validation?\n",
    "\n",
    "* 0.045\n",
    "* 0.245\n",
    "* 0.545\n",
    "* 0.845\n"
   ]
  },
  {
   "cell_type": "code",
   "execution_count": 51,
   "metadata": {},
   "outputs": [],
   "source": [
    "from sklearn.ensemble import RandomForestRegressor"
   ]
  },
  {
   "cell_type": "code",
   "execution_count": 52,
   "metadata": {},
   "outputs": [],
   "source": [
    "model = train_model(\n",
    "    RandomForestRegressor,\n",
    "    X_train,\n",
    "    y_train,\n",
    "    {\"n_estimators\": 10, \"random_state\": 1, \"n_jobs\": -1},\n",
    ")"
   ]
  },
  {
   "cell_type": "code",
   "execution_count": 53,
   "metadata": {},
   "outputs": [],
   "source": [
    "from sklearn.metrics import mean_squared_error\n",
    "\n",
    "def rmse(y, y_pred):\n",
    "    return np.sqrt(mean_squared_error(y, y_pred))"
   ]
  },
  {
   "cell_type": "code",
   "execution_count": 58,
   "metadata": {},
   "outputs": [
    {
     "name": "stdout",
     "output_type": "stream",
     "text": [
      "0.245\n"
     ]
    }
   ],
   "source": [
    "y_pred = predict(model, X_val)\n",
    "print(round(rmse(y_val, y_pred), 3))"
   ]
  },
  {
   "cell_type": "markdown",
   "metadata": {},
   "source": [
    "## Question 3\n",
    "\n",
    "Now let's experiment with the `n_estimators` parameter\n",
    "\n",
    "* Try different values of this parameter from 10 to 200 with step 10.\n",
    "* Set `random_state` to `1`.\n",
    "* Evaluate the model on the validation dataset.\n",
    "\n",
    "\n",
    "After which value of `n_estimators` does RMSE stop improving?\n",
    "Consider 3 decimal places for retrieving the answer.\n",
    "\n",
    "- 10\n",
    "- 25\n",
    "- 50\n",
    "- 160\n"
   ]
  },
  {
   "cell_type": "code",
   "execution_count": 59,
   "metadata": {},
   "outputs": [
    {
     "name": "stdout",
     "output_type": "stream",
     "text": [
      "10 0.245\n",
      "20 0.239\n",
      "30 0.237\n",
      "40 0.235\n",
      "50 0.235\n",
      "60 0.235\n",
      "70 0.235\n",
      "80 0.235\n",
      "90 0.234\n",
      "100 0.234\n",
      "110 0.234\n",
      "120 0.234\n",
      "130 0.234\n",
      "140 0.234\n",
      "150 0.234\n",
      "160 0.233\n",
      "170 0.233\n",
      "180 0.234\n",
      "190 0.234\n"
     ]
    }
   ],
   "source": [
    "for i in range(10, 200, 10):\n",
    "    model = train_model(\n",
    "        RandomForestRegressor,\n",
    "        X_train,\n",
    "        y_train,\n",
    "        {\"n_estimators\": i, \"random_state\": 1, \"n_jobs\": -1},\n",
    "    )\n",
    "    y_pred = predict(model, X_val)\n",
    "    print(i, round(rmse(y_val, y_pred), 3))"
   ]
  },
  {
   "cell_type": "markdown",
   "metadata": {},
   "source": [
    "## Question 4\n",
    "\n",
    "Let's select the best `max_depth`:\n",
    "\n",
    "* Try different values of `max_depth`: `[10, 15, 20, 25]`\n",
    "* For each of these values,\n",
    "  * try different values of `n_estimators` from 10 till 200 (with step 10)\n",
    "  * calculate the mean RMSE \n",
    "* Fix the random seed: `random_state=1`\n",
    "\n",
    "\n",
    "What's the best `max_depth`, using the mean RMSE?\n",
    "\n",
    "* 10\n",
    "* 15\n",
    "* 20\n",
    "* 25\n"
   ]
  },
  {
   "cell_type": "code",
   "execution_count": 60,
   "metadata": {},
   "outputs": [
    {
     "name": "stdout",
     "output_type": "stream",
     "text": [
      "10 0.245\n",
      "15 0.235\n",
      "20 0.234\n",
      "25 0.234\n"
     ]
    }
   ],
   "source": [
    "for i in [10, 15, 20, 25]:\n",
    "    model = train_model(\n",
    "        RandomForestRegressor,\n",
    "        X_train,\n",
    "        y_train,\n",
    "        {\"n_estimators\": 100, \"max_depth\": i, \"random_state\": 1, \"n_jobs\": -1},\n",
    "    )\n",
    "    y_pred = predict(model, X_val)\n",
    "    print(i, round(rmse(y_val, y_pred), 3))"
   ]
  },
  {
   "cell_type": "markdown",
   "metadata": {},
   "source": [
    "# Question 5\n",
    "\n",
    "We can extract feature importance information from tree-based models. \n",
    "\n",
    "At each step of the decision tree learning algorithm, it finds the best split. \n",
    "When doing it, we can calculate \"gain\" - the reduction in impurity before and after the split. \n",
    "This gain is quite useful in understanding what are the important features for tree-based models.\n",
    "\n",
    "In Scikit-Learn, tree-based models contain this information in the\n",
    "[`feature_importances_`](https://scikit-learn.org/stable/modules/generated/sklearn.ensemble.RandomForestRegressor.html#sklearn.ensemble.RandomForestRegressor.feature_importances_)\n",
    "field. \n",
    "\n",
    "For this homework question, we'll find the most important feature:\n",
    "\n",
    "* Train the model with these parameters:\n",
    "  * `n_estimators=10`,\n",
    "  * `max_depth=20`,\n",
    "  * `random_state=1`,\n",
    "  * `n_jobs=-1` (optional)\n",
    "* Get the feature importance information from this model\n",
    "\n",
    "\n",
    "What's the most important feature (among these 4)? \n",
    "\n",
    "* `total_rooms`\n",
    "* `median_income`\n",
    "* `total_bedrooms`\n",
    "* `longitude`\n"
   ]
  },
  {
   "cell_type": "code",
   "execution_count": 65,
   "metadata": {},
   "outputs": [
    {
     "name": "stdout",
     "output_type": "stream",
     "text": [
      "households 0.0146\n",
      "housing_median_age 0.0303\n",
      "latitude 0.1015\n",
      "longitude 0.0871\n",
      "median_income 0.3357\n",
      "ocean_proximity=<1H OCEAN 0.0353\n",
      "ocean_proximity=INLAND 0.331\n",
      "population 0.0283\n",
      "total_bedrooms 0.0152\n",
      "total_rooms 0.021\n"
     ]
    }
   ],
   "source": [
    "model = train_model(\n",
    "    RandomForestRegressor,\n",
    "    X_train,\n",
    "    y_train,\n",
    "    {\"n_estimators\": 10, \"max_depth\": 20, \"random_state\": 1, \"n_jobs\": -1}\n",
    ")\n",
    "\n",
    "for i in range(len(model.feature_importances_)):\n",
    "    print(dv.feature_names_[i], round(model.feature_importances_[i], 4))"
   ]
  },
  {
   "cell_type": "markdown",
   "metadata": {},
   "source": [
    "## Question 6\n",
    "\n",
    "Now let's train an XGBoost model! For this question, we'll tune the `eta` parameter:\n",
    "\n",
    "* Install XGBoost\n",
    "* Create DMatrix for train and validation\n",
    "* Create a watchlist\n",
    "* Train a model with these parameters for 100 rounds:\n",
    "\n",
    "```\n",
    "xgb_params = {\n",
    "    'eta': 0.3, \n",
    "    'max_depth': 6,\n",
    "    'min_child_weight': 1,\n",
    "    \n",
    "    'objective': 'reg:squarederror',\n",
    "    'nthread': 8,\n",
    "    \n",
    "    'seed': 1,\n",
    "    'verbosity': 1,\n",
    "}\n",
    "```\n",
    "\n",
    "\n",
    "Now change `eta` from `0.3` to `0.1`.\n",
    "\n",
    "Which eta leads to the best RMSE score on the validation dataset?\n",
    "\n",
    "* 0.3\n",
    "* 0.1\n",
    "* Both give equal value"
   ]
  },
  {
   "cell_type": "code",
   "execution_count": 71,
   "metadata": {},
   "outputs": [],
   "source": [
    "import xgboost as xgb"
   ]
  },
  {
   "cell_type": "code",
   "execution_count": 77,
   "metadata": {},
   "outputs": [
    {
     "data": {
      "text/plain": [
       "['households',\n",
       " 'housing_median_age',\n",
       " 'latitude',\n",
       " 'longitude',\n",
       " 'median_income',\n",
       " 'ocean_proximity=<1H OCEAN',\n",
       " 'ocean_proximity=INLAND',\n",
       " 'population',\n",
       " 'total_bedrooms',\n",
       " 'total_rooms']"
      ]
     },
     "execution_count": 77,
     "metadata": {},
     "output_type": "execute_result"
    }
   ],
   "source": [
    "dv.get_feature_names_out().tolist()"
   ]
  },
  {
   "cell_type": "code",
   "execution_count": 84,
   "metadata": {},
   "outputs": [],
   "source": [
    "features = dv.get_feature_names_out().tolist()\n",
    "features = [name.replace('[', '_').replace(']', '_').replace('<', '_') for name in features]\n",
    "\n",
    "dtrain = xgb.DMatrix(X_train, label=y_train, feature_names=features)\n",
    "dval = xgb.DMatrix(X_val, label=y_val, feature_names=features)\n",
    "dtest = xgb.DMatrix(X_test, label=y_test, feature_names=features)\n",
    "\n",
    "xgb_params = {\n",
    "    \"eta\": 0.3,\n",
    "    \"max_depth\": 6,\n",
    "    \"min_child_weight\": 1,\n",
    "    \"objective\": \"reg:squarederror\",\n",
    "    \"nthread\": 8,\n",
    "    \"seed\": 1,\n",
    "    \"verbosity\": 1,\n",
    "}"
   ]
  },
  {
   "cell_type": "code",
   "execution_count": 85,
   "metadata": {},
   "outputs": [],
   "source": [
    "from matplotlib import pyplot as plt"
   ]
  },
  {
   "cell_type": "code",
   "execution_count": 87,
   "metadata": {},
   "outputs": [
    {
     "name": "stdout",
     "output_type": "stream",
     "text": [
      "[0]\ttrain-rmse:0.44351\tval-rmse:0.44250\n",
      "[5]\ttrain-rmse:0.25338\tval-rmse:0.27463\n"
     ]
    },
    {
     "name": "stdout",
     "output_type": "stream",
     "text": [
      "[10]\ttrain-rmse:0.21445\tval-rmse:0.25179\n",
      "[15]\ttrain-rmse:0.19858\tval-rmse:0.24523\n",
      "[20]\ttrain-rmse:0.18524\tval-rmse:0.23978\n",
      "[25]\ttrain-rmse:0.17757\tval-rmse:0.23830\n",
      "[30]\ttrain-rmse:0.16888\tval-rmse:0.23571\n",
      "[35]\ttrain-rmse:0.16113\tval-rmse:0.23416\n",
      "[40]\ttrain-rmse:0.15542\tval-rmse:0.23319\n",
      "[45]\ttrain-rmse:0.14941\tval-rmse:0.23190\n",
      "[50]\ttrain-rmse:0.14536\tval-rmse:0.23225\n",
      "[55]\ttrain-rmse:0.14150\tval-rmse:0.23197\n",
      "[60]\ttrain-rmse:0.13719\tval-rmse:0.23139\n",
      "[65]\ttrain-rmse:0.13260\tval-rmse:0.23158\n",
      "[70]\ttrain-rmse:0.12943\tval-rmse:0.23068\n",
      "[75]\ttrain-rmse:0.12555\tval-rmse:0.23039\n",
      "[80]\ttrain-rmse:0.12192\tval-rmse:0.22886\n",
      "[85]\ttrain-rmse:0.11854\tval-rmse:0.22888\n",
      "[90]\ttrain-rmse:0.11504\tval-rmse:0.22877\n",
      "[95]\ttrain-rmse:0.11266\tval-rmse:0.22865\n",
      "[99]\ttrain-rmse:0.11043\tval-rmse:0.22873\n"
     ]
    },
    {
     "data": {
      "text/plain": [
       "<matplotlib.legend.Legend at 0x7fdbc6ae04f0>"
      ]
     },
     "execution_count": 87,
     "metadata": {},
     "output_type": "execute_result"
    },
    {
     "data": {
      "image/png": "[encoded data removed]",
      "text/plain": [
       "<Figure size 640x480 with 1 Axes>"
      ]
     },
     "metadata": {},
     "output_type": "display_data"
    }
   ],
   "source": [
    "evals_result = {}\n",
    "watchlist = [(dtrain, \"train\"), (dval, \"val\")]\n",
    "\n",
    "model = xgb.train(params=xgb_params,\n",
    "                  dtrain=dtrain,\n",
    "                  num_boost_round=100,\n",
    "                  verbose_eval=5,\n",
    "                  evals=watchlist,\n",
    "                  evals_result=evals_result)\n",
    "\n",
    "columns = ['iter', 'train_auc', 'val_auc']\n",
    "train_aucs = list(evals_result['train'].values())[0]\n",
    "val_aucs = list(evals_result['val'].values())[0]\n",
    "\n",
    "df_scores = pd.DataFrame(\n",
    "    list(zip(\n",
    "        range(1, len(train_aucs) + 1),\n",
    "        train_aucs,\n",
    "        val_aucs\n",
    "    )), columns=columns)\n",
    "\n",
    "plt.plot(df_scores.iter, df_scores.train_auc, label='train')\n",
    "plt.plot(df_scores.iter, df_scores.val_auc, label='val')\n",
    "plt.legend()\n"
   ]
  },
  {
   "cell_type": "code",
   "execution_count": 88,
   "metadata": {},
   "outputs": [],
   "source": [
    "xgb_params = {\n",
    "    \"eta\": 1,\n",
    "    \"max_depth\": 6,\n",
    "    \"min_child_weight\": 1,\n",
    "    \"objective\": \"reg:squarederror\",\n",
    "    \"nthread\": 8,\n",
    "    \"seed\": 1,\n",
    "    \"verbosity\": 1,\n",
    "}"
   ]
  },
  {
   "cell_type": "code",
   "execution_count": 89,
   "metadata": {},
   "outputs": [
    {
     "name": "stdout",
     "output_type": "stream",
     "text": [
      "[0]\ttrain-rmse:0.27425\tval-rmse:0.29308\n",
      "[5]\ttrain-rmse:0.21451\tval-rmse:0.26970\n",
      "[10]\ttrain-rmse:0.18924\tval-rmse:0.26876\n",
      "[15]\ttrain-rmse:0.17171\tval-rmse:0.27084\n",
      "[20]\ttrain-rmse:0.15683\tval-rmse:0.27241\n",
      "[25]\ttrain-rmse:0.14548\tval-rmse:0.27493\n",
      "[30]\ttrain-rmse:0.13446\tval-rmse:0.27624\n",
      "[35]\ttrain-rmse:0.12711\tval-rmse:0.27897\n",
      "[40]\ttrain-rmse:0.12065\tval-rmse:0.28045\n",
      "[45]\ttrain-rmse:0.11316\tval-rmse:0.28177\n",
      "[50]\ttrain-rmse:0.10692\tval-rmse:0.28341\n",
      "[55]\ttrain-rmse:0.10019\tval-rmse:0.28421\n",
      "[60]\ttrain-rmse:0.09445\tval-rmse:0.28524\n",
      "[65]\ttrain-rmse:0.08992\tval-rmse:0.28536\n",
      "[70]\ttrain-rmse:0.08385\tval-rmse:0.28647\n",
      "[75]\ttrain-rmse:0.07793\tval-rmse:0.28678\n",
      "[80]\ttrain-rmse:0.07384\tval-rmse:0.28722\n",
      "[85]\ttrain-rmse:0.06930\tval-rmse:0.28768\n",
      "[90]\ttrain-rmse:0.06557\tval-rmse:0.28821\n",
      "[95]\ttrain-rmse:0.06160\tval-rmse:0.28854\n",
      "[99]\ttrain-rmse:0.05884\tval-rmse:0.28894\n"
     ]
    },
    {
     "data": {
      "text/plain": [
       "<matplotlib.legend.Legend at 0x7fdbc59dac80>"
      ]
     },
     "execution_count": 89,
     "metadata": {},
     "output_type": "execute_result"
    },
    {
     "data": {
      "image/png": "[encoded data removed]",
      "text/plain": [
       "<Figure size 640x480 with 1 Axes>"
      ]
     },
     "metadata": {},
     "output_type": "display_data"
    }
   ],
   "source": [
    "evals_result = {}\n",
    "watchlist = [(dtrain, \"train\"), (dval, \"val\")]\n",
    "\n",
    "model = xgb.train(params=xgb_params,\n",
    "                  dtrain=dtrain,\n",
    "                  num_boost_round=100,\n",
    "                  verbose_eval=5,\n",
    "                  evals=watchlist,\n",
    "                  evals_result=evals_result)\n",
    "\n",
    "columns = ['iter', 'train_auc', 'val_auc']\n",
    "train_aucs = list(evals_result['train'].values())[0]\n",
    "val_aucs = list(evals_result['val'].values())[0]\n",
    "\n",
    "df_scores = pd.DataFrame(\n",
    "    list(zip(\n",
    "        range(1, len(train_aucs) + 1),\n",
    "        train_aucs,\n",
    "        val_aucs\n",
    "    )), columns=columns)\n",
    "\n",
    "plt.plot(df_scores.iter, df_scores.train_auc, label='train')\n",
    "plt.plot(df_scores.iter, df_scores.val_auc, label='val')\n",
    "plt.legend()\n"
   ]
  },
  {
   "cell_type": "markdown",
   "metadata": {},
   "source": [
    "\n",
    "## Submit the results\n",
    "\n",
    "- Submit your results here: https://forms.gle/Qa2SuzG7QGZNCaoV9\n",
    "- If your answer doesn't match options exactly, select the closest one.\n",
    "- You can submit your solution multiple times. In this case, only the last submission will be used\n",
    "\n",
    "## Deadline\n",
    "\n",
    "The deadline for submitting is October 23 (Monday), 23:00 CET. After that the form will be closed."
   ]
  },
  {
   "cell_type": "markdown",
   "metadata": {},
   "source": []
  }
 ],
 "metadata": {
  "kernelspec": {
   "display_name": ".venv",
   "language": "python",
   "name": "python3"
  },
  "language_info": {
   "codemirror_mode": {
    "name": "ipython",
    "version": 3
   },
   "file_extension": ".py",
   "mimetype": "text/x-python",
   "name": "python",
   "nbconvert_exporter": "python",
   "pygments_lexer": "ipython3",
   "version": "3.10.12"
  }
 },
 "nbformat": 4,
 "nbformat_minor": 2
}
